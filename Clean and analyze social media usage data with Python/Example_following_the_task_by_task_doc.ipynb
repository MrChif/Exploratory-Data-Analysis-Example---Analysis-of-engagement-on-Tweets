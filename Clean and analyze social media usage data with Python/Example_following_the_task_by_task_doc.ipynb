{
 "cells": [
  {
   "cell_type": "markdown",
   "id": "56416555",
   "metadata": {},
   "source": [
    "# EXAMPLE 1: Exploratory Data Analisys with random data"
   ]
  },
  {
   "cell_type": "markdown",
   "id": "18802c96",
   "metadata": {},
   "source": [
    "In this example, we will do an exploratory data analysis, simulating data that has been retrieved from twitter."
   ]
  },
  {
   "cell_type": "code",
   "execution_count": 2,
   "id": "a4a95e5a",
   "metadata": {},
   "outputs": [],
   "source": [
    "#Number 1: Import required libraries\n",
    "#Pandas, Numpy, Matplotlib, seaborn, random\n",
    "import pandas as pd\n",
    "import numpy as np\n",
    "import matplotlib.pyplot as plt\n",
    "import seaborn as sns\n",
    "import random as rand\n",
    "\n",
    "# this is, so graphs show after the line of code\n",
    "%matplotlib inline \n"
   ]
  },
  {
   "cell_type": "code",
   "execution_count": 3,
   "id": "8d3e0f8f",
   "metadata": {},
   "outputs": [],
   "source": [
    "#Number 2: Generate random data \n",
    "# 1) Define a list of categories for the social media experiment: Food, Travel, Fashion, Fitness, Music, Culture, Family, and Health\n",
    "# * I'm gonna use the same as those that appear in recommended in that section\n",
    "categories = ['Food', 'Travel', 'Fashion', 'Fitness', 'Music', 'Culture', 'Family', 'Health']\n",
    "# 2) generate a Python data dictionary with fields Date, Category, and number of likes, all with random data.\n",
    "# * I first created a random value that will determine the amount of data generated\n",
    "seed_of_entries = rand.randint(500,1000)\n",
    "\n",
    "data = {'Date':pd.date_range('2024-01-01',periods=seed_of_entries),\n",
    "        'Category':[rand.choice(categories)for _ in range(seed_of_entries)],\n",
    "        'Likes': np.random.randint(0, 100000, size=seed_of_entries)}"
   ]
  },
  {
   "cell_type": "code",
   "execution_count": 4,
   "id": "ce44fb0c",
   "metadata": {},
   "outputs": [
    {
     "data": {
      "text/html": [
       "<div>\n",
       "<style scoped>\n",
       "    .dataframe tbody tr th:only-of-type {\n",
       "        vertical-align: middle;\n",
       "    }\n",
       "\n",
       "    .dataframe tbody tr th {\n",
       "        vertical-align: top;\n",
       "    }\n",
       "\n",
       "    .dataframe thead th {\n",
       "        text-align: right;\n",
       "    }\n",
       "</style>\n",
       "<table border=\"1\" class=\"dataframe\">\n",
       "  <thead>\n",
       "    <tr style=\"text-align: right;\">\n",
       "      <th></th>\n",
       "      <th>Date</th>\n",
       "      <th>Category</th>\n",
       "      <th>Likes</th>\n",
       "    </tr>\n",
       "  </thead>\n",
       "  <tbody>\n",
       "    <tr>\n",
       "      <th>0</th>\n",
       "      <td>2024-01-01</td>\n",
       "      <td>Health</td>\n",
       "      <td>75951</td>\n",
       "    </tr>\n",
       "    <tr>\n",
       "      <th>1</th>\n",
       "      <td>2024-01-02</td>\n",
       "      <td>Music</td>\n",
       "      <td>44040</td>\n",
       "    </tr>\n",
       "    <tr>\n",
       "      <th>2</th>\n",
       "      <td>2024-01-03</td>\n",
       "      <td>Family</td>\n",
       "      <td>66333</td>\n",
       "    </tr>\n",
       "    <tr>\n",
       "      <th>3</th>\n",
       "      <td>2024-01-04</td>\n",
       "      <td>Food</td>\n",
       "      <td>22614</td>\n",
       "    </tr>\n",
       "    <tr>\n",
       "      <th>4</th>\n",
       "      <td>2024-01-05</td>\n",
       "      <td>Fashion</td>\n",
       "      <td>98660</td>\n",
       "    </tr>\n",
       "  </tbody>\n",
       "</table>\n",
       "</div>"
      ],
      "text/plain": [
       "        Date Category  Likes\n",
       "0 2024-01-01   Health  75951\n",
       "1 2024-01-02    Music  44040\n",
       "2 2024-01-03   Family  66333\n",
       "3 2024-01-04     Food  22614\n",
       "4 2024-01-05  Fashion  98660"
      ]
     },
     "execution_count": 4,
     "metadata": {},
     "output_type": "execute_result"
    }
   ],
   "source": [
    "#Number 3:  Load the data into a Pandas DataFrame and Explore the data\n",
    "tweets = pd.DataFrame.from_dict(data)\n",
    "# print the dataframe head, the dataframe information, and the dataframe description\n",
    "tweets.head()"
   ]
  },
  {
   "cell_type": "code",
   "execution_count": 5,
   "id": "85e42de0",
   "metadata": {},
   "outputs": [
    {
     "name": "stdout",
     "output_type": "stream",
     "text": [
      "<class 'pandas.core.frame.DataFrame'>\n",
      "RangeIndex: 868 entries, 0 to 867\n",
      "Data columns (total 3 columns):\n",
      " #   Column    Non-Null Count  Dtype         \n",
      "---  ------    --------------  -----         \n",
      " 0   Date      868 non-null    datetime64[ns]\n",
      " 1   Category  868 non-null    object        \n",
      " 2   Likes     868 non-null    int32         \n",
      "dtypes: datetime64[ns](1), int32(1), object(1)\n",
      "memory usage: 17.1+ KB\n"
     ]
    }
   ],
   "source": [
    "tweets.info()"
   ]
  },
  {
   "cell_type": "code",
   "execution_count": 6,
   "id": "84ee948f",
   "metadata": {
    "scrolled": true
   },
   "outputs": [
    {
     "data": {
      "text/html": [
       "<div>\n",
       "<style scoped>\n",
       "    .dataframe tbody tr th:only-of-type {\n",
       "        vertical-align: middle;\n",
       "    }\n",
       "\n",
       "    .dataframe tbody tr th {\n",
       "        vertical-align: top;\n",
       "    }\n",
       "\n",
       "    .dataframe thead th {\n",
       "        text-align: right;\n",
       "    }\n",
       "</style>\n",
       "<table border=\"1\" class=\"dataframe\">\n",
       "  <thead>\n",
       "    <tr style=\"text-align: right;\">\n",
       "      <th></th>\n",
       "      <th>Likes</th>\n",
       "    </tr>\n",
       "  </thead>\n",
       "  <tbody>\n",
       "    <tr>\n",
       "      <th>count</th>\n",
       "      <td>868.000000</td>\n",
       "    </tr>\n",
       "    <tr>\n",
       "      <th>mean</th>\n",
       "      <td>50301.526498</td>\n",
       "    </tr>\n",
       "    <tr>\n",
       "      <th>std</th>\n",
       "      <td>28262.505908</td>\n",
       "    </tr>\n",
       "    <tr>\n",
       "      <th>min</th>\n",
       "      <td>25.000000</td>\n",
       "    </tr>\n",
       "    <tr>\n",
       "      <th>25%</th>\n",
       "      <td>26039.000000</td>\n",
       "    </tr>\n",
       "    <tr>\n",
       "      <th>50%</th>\n",
       "      <td>50614.500000</td>\n",
       "    </tr>\n",
       "    <tr>\n",
       "      <th>75%</th>\n",
       "      <td>74813.750000</td>\n",
       "    </tr>\n",
       "    <tr>\n",
       "      <th>max</th>\n",
       "      <td>99971.000000</td>\n",
       "    </tr>\n",
       "  </tbody>\n",
       "</table>\n",
       "</div>"
      ],
      "text/plain": [
       "              Likes\n",
       "count    868.000000\n",
       "mean   50301.526498\n",
       "std    28262.505908\n",
       "min       25.000000\n",
       "25%    26039.000000\n",
       "50%    50614.500000\n",
       "75%    74813.750000\n",
       "max    99971.000000"
      ]
     },
     "execution_count": 6,
     "metadata": {},
     "output_type": "execute_result"
    }
   ],
   "source": [
    "tweets.describe()"
   ]
  },
  {
   "cell_type": "code",
   "execution_count": 7,
   "id": "307e556b",
   "metadata": {},
   "outputs": [
    {
     "data": {
      "text/plain": [
       "Category\n",
       "Travel     124\n",
       "Family     120\n",
       "Fitness    113\n",
       "Food       113\n",
       "Fashion    110\n",
       "Health      99\n",
       "Music       99\n",
       "Culture     90\n",
       "dtype: int64"
      ]
     },
     "execution_count": 7,
     "metadata": {},
     "output_type": "execute_result"
    }
   ],
   "source": [
    "# print the count of each ‘Category’element. \n",
    "tweets.value_counts('Category')"
   ]
  },
  {
   "cell_type": "code",
   "execution_count": 8,
   "id": "80dd7196",
   "metadata": {},
   "outputs": [
    {
     "name": "stdout",
     "output_type": "stream",
     "text": [
      "<class 'pandas.core.frame.DataFrame'>\n",
      "Int64Index: 868 entries, 0 to 867\n",
      "Data columns (total 3 columns):\n",
      " #   Column    Non-Null Count  Dtype         \n",
      "---  ------    --------------  -----         \n",
      " 0   Date      868 non-null    datetime64[ns]\n",
      " 1   Category  868 non-null    object        \n",
      " 2   Likes     868 non-null    int32         \n",
      "dtypes: datetime64[ns](1), int32(1), object(1)\n",
      "memory usage: 23.7+ KB\n"
     ]
    }
   ],
   "source": [
    "#Number 4:  Clean the data\n",
    "#  remove all the null data using the appropriate dataframe drop method, and also the duplicates.\n",
    "tweets.dropna(inplace = True)\n",
    "tweets.drop_duplicates(inplace = True)\n",
    "#  convert the dataframe field to a datetime format using the pandas object\n",
    "pd.to_datetime(tweets['Date'])\n",
    "#  convert the dataframe ‘Likes’ data to an integer.\n",
    "tweets['Likes'].astype('int32').dtypes\n",
    "tweets.info()"
   ]
  },
  {
   "cell_type": "code",
   "execution_count": 11,
   "id": "c73a8d07",
   "metadata": {},
   "outputs": [
    {
     "data": {
      "text/plain": [
       "<Axes: xlabel='Likes', ylabel='Count'>"
      ]
     },
     "execution_count": 11,
     "metadata": {},
     "output_type": "execute_result"
    },
    {
     "data": {
      "image/png": "[encoded data removed]",
      "text/plain": [
       "<Figure size 640x480 with 1 Axes>"
      ]
     },
     "metadata": {},
     "output_type": "display_data"
    }
   ],
   "source": [
    "#Number 5: Visualize and Analyze the data\n",
    "# visualize the data using the seaborn module in a histogram plot of the Likes.\n",
    "sns.histplot(tweets['Likes'])"
   ]
  },
  {
   "cell_type": "code",
   "execution_count": 12,
   "id": "2859ce4a",
   "metadata": {},
   "outputs": [
    {
     "data": {
      "text/plain": [
       "<Axes: xlabel='Category', ylabel='Likes'>"
      ]
     },
     "execution_count": 12,
     "metadata": {},
     "output_type": "execute_result"
    },
    {
     "data": {
      "image/png": "[encoded data removed]",
      "text/plain": [
       "<Figure size 640x480 with 1 Axes>"
      ]
     },
     "metadata": {},
     "output_type": "display_data"
    }
   ],
   "source": [
    "# create a boxplot with the x axis as ‘Category’, and the y axis as ‘Likes’.\n",
    "sns.boxplot(x=tweets['Category'], y=tweets['Likes'])"
   ]
  },
  {
   "cell_type": "code",
   "execution_count": 23,
   "id": "2f6ed1aa",
   "metadata": {},
   "outputs": [
    {
     "name": "stdout",
     "output_type": "stream",
     "text": [
      "Average of Likes per Tweets:\n",
      "\n",
      " 50301.52649769585\n",
      "\n",
      "Average likes by Category:\n",
      "\n",
      " Category\n",
      "Culture    47197.655556\n",
      "Family     47494.150000\n",
      "Fashion    58953.063636\n",
      "Fitness    46146.433628\n",
      "Food       50604.221239\n",
      "Health     52635.585859\n",
      "Music      53502.777778\n",
      "Travel     46687.733871\n",
      "Name: Likes, dtype: float64\n"
     ]
    }
   ],
   "source": [
    "# print out the mean of the ‘Likes’ category\n",
    "print(\"Average of Likes per Tweets:\\n\\n\", np.mean(tweets['Likes']))\n",
    "# use the dataframe’s groupby method to print out the mean of each Category ‘Likes’\n",
    "print(\"\\nAverage likes by Category:\\n\\n\", tweets.groupby('Category')['Likes'].mean())"
   ]
  },
  {
   "cell_type": "markdown",
   "id": "edb2d528",
   "metadata": {},
   "source": [
    "Number 6: Describe Conclusions \n",
    "Write a conclusion about your process and any key findings.\n",
    "\n",
    "-----------------------------------------------------------------------------------------------------------------------\n",
    "Conclusions:\n",
    "- It seem to be that the 'Fashion' tweets recieves the most amount of success in terms of 'Likes' by Twitter users.\n",
    "- The two second and third more succesful type of tweets, were the ones for 'Health' and 'Music'.\n",
    "- On the contrary, 'Fitness' recieved the least amount of 'Likes' between each category.\n",
    "- The second and third least succesful type of tweets were 'Travel' and 'Culture'.\n",
    "- Most of the tweets, where on the 40k - 60k range of 'Likes'.\n",
    "\n",
    "- We recommend to our client to focus their efforts to produce more tweets related to Fashion, Health and Music.\n",
    "- We recommend to our client to consult social media experts to increase their reach and engagement in topics related to the tweets of Fitness, Travel and Culture."
   ]
  },
  {
   "cell_type": "code",
   "execution_count": null,
   "id": "84dbb0ba",
   "metadata": {},
   "outputs": [],
   "source": []
  }
 ],
 "metadata": {
  "kernelspec": {
   "display_name": "Python 3 (ipykernel)",
   "language": "python",
   "name": "python3"
  },
  "language_info": {
   "codemirror_mode": {
    "name": "ipython",
    "version": 3
   },
   "file_extension": ".py",
   "mimetype": "text/x-python",
   "name": "python",
   "nbconvert_exporter": "python",
   "pygments_lexer": "ipython3",
   "version": "3.11.3"
  }
 },
 "nbformat": 4,
 "nbformat_minor": 5
}
